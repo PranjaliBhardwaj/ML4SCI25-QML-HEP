{
  "nbformat": 4,
  "nbformat_minor": 0,
  "metadata": {
    "colab": {
      "provenance": []
    },
    "kernelspec": {
      "name": "python3",
      "display_name": "Python 3"
    },
    "language_info": {
      "name": "python"
    }
  },
  "cells": [
    {
      "cell_type": "markdown",
      "source": [
        "# Task I Quantum Computing Part\n",
        "implement a simple quantum operation with Cirq or Pennylane<br>\n",
        "a) With 5 qubits <br>\n",
        "b) Apply Hadamard operation on every qubit <br>\n",
        "c) Apply CNOT operation on (0, 1), (1,2), (2,3), (3,4) <br>\n",
        "d) SWAP (0, 4) <br>\n",
        "e) Rotate X with pi/2 on any qubit <br>\n",
        "f) Plot the circuit <br>\n"
      ],
      "metadata": {
        "id": "sNnAg_WkrY7I"
      }
    },
    {
      "cell_type": "code",
      "source": [
        "import cirq\n",
        "import numpy as np\n",
        "import matplotlib.pyplot as plt\n",
        "from IPython.display import display\n",
        "from cirq.contrib.svg import SVGCircuit\n",
        "\n",
        "def create_circuit_task1():\n",
        "    qubits = [cirq.LineQubit(i) for i in range(5)]\n",
        "    circuit = cirq.Circuit()\n",
        "\n",
        "    # a) Apply Hadamard to all qubits\n",
        "    circuit.append(cirq.H(q) for q in qubits)\n",
        "\n",
        "    # b) Apply CNOT gates\n",
        "    circuit.append(cirq.CNOT(qubits[i], qubits[i+1]) for i in range(4))\n",
        "\n",
        "    # c) Apply SWAP between qubit 0 and 4\n",
        "    circuit.append(cirq.SWAP(qubits[0], qubits[4]))\n",
        "\n",
        "    # d) Rotate X with pi/2 on qubit 2\n",
        "    circuit.append(cirq.rx(np.pi/2)(qubits[2]))\n",
        "\n",
        "    return circuit"
      ],
      "metadata": {
        "id": "FQn5B35fT4NV"
      },
      "execution_count": null,
      "outputs": []
    },
    {
      "cell_type": "markdown",
      "source": [
        "Implement a second circuit with a framework of your choice:<br>\n",
        "a) Apply a Hadmard gate to the first qubit<br>\n",
        "b) rotate the second qubit by pi/3 around X <br>\n",
        "c) Apply Hadamard gate to the third and fourth qubit <br>\n",
        "d) Perform a swap test between the states of the first and second qubit |q1 q2> and the third and fourth qubit |q3 q4>\n",
        "\n"
      ],
      "metadata": {
        "id": "LqW7vw2Nr2eb"
      }
    },
    {
      "cell_type": "code",
      "source": [
        "def create_circuit_task2():\n",
        "    qubits = [cirq.LineQubit(i) for i in range(5)]\n",
        "    circuit = cirq.Circuit()\n",
        "\n",
        "    # Apply Hadamard to qubit 0\n",
        "    circuit.append(cirq.H(qubits[0]))\n",
        "\n",
        "    # Rotate qubit 1 around X by pi/3\n",
        "    circuit.append(cirq.rx(np.pi/3)(qubits[1]))\n",
        "\n",
        "    # Apply Hadamard to qubits 2 and 3\n",
        "    circuit.append(cirq.H(qubits[2]))\n",
        "    circuit.append(cirq.H(qubits[3]))\n",
        "\n",
        "    # Swap test between |q1 q2> and |q3 q4>\n",
        "    circuit.append(cirq.H(qubits[4]))  # Ancilla qubit for swap test\n",
        "    circuit.append(cirq.CSWAP(qubits[4], qubits[0], qubits[2]))\n",
        "    circuit.append(cirq.CSWAP(qubits[4], qubits[1], qubits[3]))\n",
        "    circuit.append(cirq.H(qubits[4]))\n",
        "\n",
        "    return circuit\n"
      ],
      "metadata": {
        "id": "yRHA1ay4UJ1E"
      },
      "execution_count": null,
      "outputs": []
    },
    {
      "cell_type": "code",
      "source": [
        "# Generate and plot circuits\n",
        "circuit1 = create_circuit_task1()\n",
        "circuit2 = create_circuit_task2()\n",
        "\n",
        "print(\"Task 1 Circuit:\")\n",
        "print(circuit1)\n",
        "\n",
        "print(\"\\nTask 2 Circuit:\")\n",
        "print(circuit2)\n",
        "\n",
        "# Compute and display unitary matrices\n",
        "unitary1 = cirq.unitary(circuit1)\n",
        "unitary2 = cirq.unitary(circuit2)\n",
        "\n",
        "print(\"Unitary Matrix for Task 1 Circuit:\\n\", unitary1)\n",
        "print(\"Unitary Matrix for Task 2 Circuit:\\n\", unitary2)\n",
        "\n",
        "# Display circuits visually\n",
        "display(SVGCircuit(circuit1))\n",
        "display(SVGCircuit(circuit2))\n"
      ],
      "metadata": {
        "id": "Lhkzz-z0UNFy",
        "outputId": "5d635678-96fd-4220-a8a8-5d1088c9ef71",
        "colab": {
          "base_uri": "https://localhost:8080/",
          "height": 1000
        }
      },
      "execution_count": null,
      "outputs": [
        {
          "output_type": "stream",
          "name": "stdout",
          "text": [
            "Task 1 Circuit:\n",
            "0: ───H───@──────────────────────×───\n",
            "          │                      │\n",
            "1: ───H───X───@──────────────────┼───\n",
            "              │                  │\n",
            "2: ───H───────X───@───Rx(0.5π)───┼───\n",
            "                  │              │\n",
            "3: ───H───────────X───@──────────┼───\n",
            "                      │          │\n",
            "4: ───H───────────────X──────────×───\n",
            "\n",
            "Task 2 Circuit:\n",
            "0: ───H────────────×───────────\n",
            "                   │\n",
            "1: ───Rx(0.333π)───┼───×───────\n",
            "                   │   │\n",
            "2: ───H────────────×───┼───────\n",
            "                   │   │\n",
            "3: ───H────────────┼───×───────\n",
            "                   │   │\n",
            "4: ───H────────────@───@───H───\n",
            "Unitary Matrix for Task 1 Circuit:\n",
            " [[ 0.125-0.125j  0.125-0.125j  0.125+0.125j ...  0.125+0.125j\n",
            "   0.125-0.125j  0.125-0.125j]\n",
            " [ 0.125-0.125j  0.125-0.125j  0.125+0.125j ...  0.125+0.125j\n",
            "   0.125-0.125j  0.125-0.125j]\n",
            " [ 0.125-0.125j -0.125+0.125j -0.125-0.125j ... -0.125-0.125j\n",
            "  -0.125+0.125j  0.125-0.125j]\n",
            " ...\n",
            " [ 0.125-0.125j -0.125+0.125j -0.125-0.125j ...  0.125+0.125j\n",
            "   0.125-0.125j -0.125+0.125j]\n",
            " [ 0.125-0.125j  0.125-0.125j  0.125+0.125j ... -0.125-0.125j\n",
            "  -0.125+0.125j -0.125+0.125j]\n",
            " [ 0.125-0.125j  0.125-0.125j  0.125+0.125j ... -0.125-0.125j\n",
            "  -0.125+0.125j -0.125+0.125j]]\n",
            "Unitary Matrix for Task 2 Circuit:\n",
            " [[ 0.30618622+0.j          0.        +0.j          0.30618622+0.j\n",
            "  ...  0.        +0.j          0.        -0.1767767j\n",
            "   0.        +0.j        ]\n",
            " [-0.        +0.j          0.30618622+0.j         -0.        +0.j\n",
            "  ...  0.        -0.1767767j  -0.        +0.j\n",
            "   0.        -0.1767767j ]\n",
            " [ 0.15309311-0.08838835j  0.15309311+0.08838835j -0.15309311-0.08838835j\n",
            "  ... -0.15309311-0.08838835j  0.15309311+0.08838835j\n",
            "  -0.15309311+0.08838835j]\n",
            " ...\n",
            " [-0.15309311-0.08838835j  0.15309311-0.08838835j  0.15309311-0.08838835j\n",
            "  ...  0.15309311-0.08838835j  0.15309311-0.08838835j\n",
            "   0.15309311+0.08838835j]\n",
            " [ 0.        -0.1767767j   0.        +0.j          0.        +0.1767767j\n",
            "  ...  0.        +0.j         -0.30618622+0.j\n",
            "   0.        +0.j        ]\n",
            " [-0.        +0.j          0.        -0.1767767j  -0.        +0.j\n",
            "  ...  0.30618622+0.j         -0.        +0.j\n",
            "  -0.30618622+0.j        ]]\n"
          ]
        },
        {
          "output_type": "display_data",
          "data": {
            "text/plain": [
              "<cirq.contrib.svg.svg.SVGCircuit at 0x7cdb3a396d90>"
            ],
            "image/svg+xml": "<svg xmlns=\"http://www.w3.org/2000/svg\" width=\"487.05328125\" height=\"250.0\"><line x1=\"30.0\" x2=\"457.05328125\" y1=\"25.0\" y2=\"25.0\" stroke=\"#1967d2\" stroke-width=\"1\" /><line x1=\"30.0\" x2=\"457.05328125\" y1=\"75.0\" y2=\"75.0\" stroke=\"#1967d2\" stroke-width=\"1\" /><line x1=\"30.0\" x2=\"457.05328125\" y1=\"125.0\" y2=\"125.0\" stroke=\"#1967d2\" stroke-width=\"1\" /><line x1=\"30.0\" x2=\"457.05328125\" y1=\"175.0\" y2=\"175.0\" stroke=\"#1967d2\" stroke-width=\"1\" /><line x1=\"30.0\" x2=\"457.05328125\" y1=\"225.0\" y2=\"225.0\" stroke=\"#1967d2\" stroke-width=\"1\" /><line x1=\"150.0\" x2=\"150.0\" y1=\"25.0\" y2=\"75.0\" stroke=\"black\" stroke-width=\"3\" /><line x1=\"210.0\" x2=\"210.0\" y1=\"75.0\" y2=\"125.0\" stroke=\"black\" stroke-width=\"3\" /><line x1=\"270.0\" x2=\"270.0\" y1=\"125.0\" y2=\"175.0\" stroke=\"black\" stroke-width=\"3\" /><line x1=\"343.526640625\" x2=\"343.526640625\" y1=\"175.0\" y2=\"225.0\" stroke=\"black\" stroke-width=\"3\" /><line x1=\"417.05328125\" x2=\"417.05328125\" y1=\"25.0\" y2=\"225.0\" stroke=\"black\" stroke-width=\"3\" /><rect x=\"10.0\" y=\"5.0\" width=\"40\" height=\"40\" stroke=\"black\" fill=\"white\" stroke-width=\"0\" /><text x=\"30.0\" y=\"25.0\" dominant-baseline=\"middle\" text-anchor=\"middle\" font-size=\"14px\" font-family=\"sans\\-serif:style=normal:variant=normal:weight=normal:stretch=normal:size=10.0\">0: </text><rect x=\"10.0\" y=\"55.0\" width=\"40\" height=\"40\" stroke=\"black\" fill=\"white\" stroke-width=\"0\" /><text x=\"30.0\" y=\"75.0\" dominant-baseline=\"middle\" text-anchor=\"middle\" font-size=\"14px\" font-family=\"sans\\-serif:style=normal:variant=normal:weight=normal:stretch=normal:size=10.0\">1: </text><rect x=\"10.0\" y=\"105.0\" width=\"40\" height=\"40\" stroke=\"black\" fill=\"white\" stroke-width=\"0\" /><text x=\"30.0\" y=\"125.0\" dominant-baseline=\"middle\" text-anchor=\"middle\" font-size=\"14px\" font-family=\"sans\\-serif:style=normal:variant=normal:weight=normal:stretch=normal:size=10.0\">2: </text><rect x=\"10.0\" y=\"155.0\" width=\"40\" height=\"40\" stroke=\"black\" fill=\"white\" stroke-width=\"0\" /><text x=\"30.0\" y=\"175.0\" dominant-baseline=\"middle\" text-anchor=\"middle\" font-size=\"14px\" font-family=\"sans\\-serif:style=normal:variant=normal:weight=normal:stretch=normal:size=10.0\">3: </text><rect x=\"10.0\" y=\"205.0\" width=\"40\" height=\"40\" stroke=\"black\" fill=\"white\" stroke-width=\"0\" /><text x=\"30.0\" y=\"225.0\" dominant-baseline=\"middle\" text-anchor=\"middle\" font-size=\"14px\" font-family=\"sans\\-serif:style=normal:variant=normal:weight=normal:stretch=normal:size=10.0\">4: </text><rect x=\"70.0\" y=\"5.0\" width=\"40\" height=\"40\" stroke=\"black\" fill=\"white\" stroke-width=\"1\" /><text x=\"90.0\" y=\"25.0\" dominant-baseline=\"middle\" text-anchor=\"middle\" font-size=\"18px\" font-family=\"sans\\-serif:style=normal:variant=normal:weight=normal:stretch=normal:size=10.0\">H</text><rect x=\"70.0\" y=\"55.0\" width=\"40\" height=\"40\" stroke=\"black\" fill=\"white\" stroke-width=\"1\" /><text x=\"90.0\" y=\"75.0\" dominant-baseline=\"middle\" text-anchor=\"middle\" font-size=\"18px\" font-family=\"sans\\-serif:style=normal:variant=normal:weight=normal:stretch=normal:size=10.0\">H</text><rect x=\"70.0\" y=\"105.0\" width=\"40\" height=\"40\" stroke=\"black\" fill=\"white\" stroke-width=\"1\" /><text x=\"90.0\" y=\"125.0\" dominant-baseline=\"middle\" text-anchor=\"middle\" font-size=\"18px\" font-family=\"sans\\-serif:style=normal:variant=normal:weight=normal:stretch=normal:size=10.0\">H</text><rect x=\"70.0\" y=\"155.0\" width=\"40\" height=\"40\" stroke=\"black\" fill=\"white\" stroke-width=\"1\" /><text x=\"90.0\" y=\"175.0\" dominant-baseline=\"middle\" text-anchor=\"middle\" font-size=\"18px\" font-family=\"sans\\-serif:style=normal:variant=normal:weight=normal:stretch=normal:size=10.0\">H</text><rect x=\"70.0\" y=\"205.0\" width=\"40\" height=\"40\" stroke=\"black\" fill=\"white\" stroke-width=\"1\" /><text x=\"90.0\" y=\"225.0\" dominant-baseline=\"middle\" text-anchor=\"middle\" font-size=\"18px\" font-family=\"sans\\-serif:style=normal:variant=normal:weight=normal:stretch=normal:size=10.0\">H</text><circle cx=\"150.0\" cy=\"25.0\" r=\"10.0\" /><rect x=\"130.0\" y=\"55.0\" width=\"40\" height=\"40\" stroke=\"black\" fill=\"white\" stroke-width=\"1\" /><text x=\"150.0\" y=\"75.0\" dominant-baseline=\"middle\" text-anchor=\"middle\" font-size=\"18px\" font-family=\"sans\\-serif:style=normal:variant=normal:weight=normal:stretch=normal:size=10.0\">X</text><circle cx=\"210.0\" cy=\"75.0\" r=\"10.0\" /><rect x=\"190.0\" y=\"105.0\" width=\"40\" height=\"40\" stroke=\"black\" fill=\"white\" stroke-width=\"1\" /><text x=\"210.0\" y=\"125.0\" dominant-baseline=\"middle\" text-anchor=\"middle\" font-size=\"18px\" font-family=\"sans\\-serif:style=normal:variant=normal:weight=normal:stretch=normal:size=10.0\">X</text><circle cx=\"270.0\" cy=\"125.0\" r=\"10.0\" /><rect x=\"250.0\" y=\"155.0\" width=\"40\" height=\"40\" stroke=\"black\" fill=\"white\" stroke-width=\"1\" /><text x=\"270.0\" y=\"175.0\" dominant-baseline=\"middle\" text-anchor=\"middle\" font-size=\"18px\" font-family=\"sans\\-serif:style=normal:variant=normal:weight=normal:stretch=normal:size=10.0\">X</text><circle cx=\"343.526640625\" cy=\"175.0\" r=\"10.0\" /><rect x=\"310.0\" y=\"205.0\" width=\"67.05328125\" height=\"40\" stroke=\"black\" fill=\"white\" stroke-width=\"1\" /><text x=\"343.526640625\" y=\"225.0\" dominant-baseline=\"middle\" text-anchor=\"middle\" font-size=\"18px\" font-family=\"sans\\-serif:style=normal:variant=normal:weight=normal:stretch=normal:size=10.0\">X</text><rect x=\"310.0\" y=\"105.0\" width=\"67.05328125\" height=\"40\" stroke=\"black\" fill=\"white\" stroke-width=\"1\" /><text x=\"343.526640625\" y=\"125.0\" dominant-baseline=\"middle\" text-anchor=\"middle\" font-size=\"14px\" font-family=\"sans\\-serif:style=normal:variant=normal:weight=normal:stretch=normal:size=10.0\">Rx(0.5π)</text><text x=\"417.05328125\" y=\"28.0\" dominant-baseline=\"middle\" text-anchor=\"middle\" font-size=\"40px\" font-family=\"sans\\-serif:style=normal:variant=normal:weight=normal:stretch=normal:size=10.0\">×</text><text x=\"417.05328125\" y=\"228.0\" dominant-baseline=\"middle\" text-anchor=\"middle\" font-size=\"40px\" font-family=\"sans\\-serif:style=normal:variant=normal:weight=normal:stretch=normal:size=10.0\">×</text></svg>"
          },
          "metadata": {}
        },
        {
          "output_type": "display_data",
          "data": {
            "text/plain": [
              "<cirq.contrib.svg.svg.SVGCircuit at 0x7cdb3a382d90>"
            ],
            "image/svg+xml": "<svg xmlns=\"http://www.w3.org/2000/svg\" width=\"384.867734375\" height=\"250.0\"><line x1=\"30.0\" x2=\"354.867734375\" y1=\"25.0\" y2=\"25.0\" stroke=\"#1967d2\" stroke-width=\"1\" /><line x1=\"30.0\" x2=\"354.867734375\" y1=\"75.0\" y2=\"75.0\" stroke=\"#1967d2\" stroke-width=\"1\" /><line x1=\"30.0\" x2=\"354.867734375\" y1=\"125.0\" y2=\"125.0\" stroke=\"#1967d2\" stroke-width=\"1\" /><line x1=\"30.0\" x2=\"354.867734375\" y1=\"175.0\" y2=\"175.0\" stroke=\"#1967d2\" stroke-width=\"1\" /><line x1=\"30.0\" x2=\"354.867734375\" y1=\"225.0\" y2=\"225.0\" stroke=\"#1967d2\" stroke-width=\"1\" /><line x1=\"194.867734375\" x2=\"194.867734375\" y1=\"25.0\" y2=\"225.0\" stroke=\"black\" stroke-width=\"3\" /><line x1=\"254.867734375\" x2=\"254.867734375\" y1=\"75.0\" y2=\"225.0\" stroke=\"black\" stroke-width=\"3\" /><rect x=\"10.0\" y=\"5.0\" width=\"40\" height=\"40\" stroke=\"black\" fill=\"white\" stroke-width=\"0\" /><text x=\"30.0\" y=\"25.0\" dominant-baseline=\"middle\" text-anchor=\"middle\" font-size=\"14px\" font-family=\"sans\\-serif:style=normal:variant=normal:weight=normal:stretch=normal:size=10.0\">0: </text><rect x=\"10.0\" y=\"55.0\" width=\"40\" height=\"40\" stroke=\"black\" fill=\"white\" stroke-width=\"0\" /><text x=\"30.0\" y=\"75.0\" dominant-baseline=\"middle\" text-anchor=\"middle\" font-size=\"14px\" font-family=\"sans\\-serif:style=normal:variant=normal:weight=normal:stretch=normal:size=10.0\">1: </text><rect x=\"10.0\" y=\"105.0\" width=\"40\" height=\"40\" stroke=\"black\" fill=\"white\" stroke-width=\"0\" /><text x=\"30.0\" y=\"125.0\" dominant-baseline=\"middle\" text-anchor=\"middle\" font-size=\"14px\" font-family=\"sans\\-serif:style=normal:variant=normal:weight=normal:stretch=normal:size=10.0\">2: </text><rect x=\"10.0\" y=\"155.0\" width=\"40\" height=\"40\" stroke=\"black\" fill=\"white\" stroke-width=\"0\" /><text x=\"30.0\" y=\"175.0\" dominant-baseline=\"middle\" text-anchor=\"middle\" font-size=\"14px\" font-family=\"sans\\-serif:style=normal:variant=normal:weight=normal:stretch=normal:size=10.0\">3: </text><rect x=\"10.0\" y=\"205.0\" width=\"40\" height=\"40\" stroke=\"black\" fill=\"white\" stroke-width=\"0\" /><text x=\"30.0\" y=\"225.0\" dominant-baseline=\"middle\" text-anchor=\"middle\" font-size=\"14px\" font-family=\"sans\\-serif:style=normal:variant=normal:weight=normal:stretch=normal:size=10.0\">4: </text><rect x=\"70.0\" y=\"5.0\" width=\"84.86773437500001\" height=\"40\" stroke=\"black\" fill=\"white\" stroke-width=\"1\" /><text x=\"112.4338671875\" y=\"25.0\" dominant-baseline=\"middle\" text-anchor=\"middle\" font-size=\"18px\" font-family=\"sans\\-serif:style=normal:variant=normal:weight=normal:stretch=normal:size=10.0\">H</text><rect x=\"70.0\" y=\"55.0\" width=\"84.86773437500001\" height=\"40\" stroke=\"black\" fill=\"white\" stroke-width=\"1\" /><text x=\"112.4338671875\" y=\"75.0\" dominant-baseline=\"middle\" text-anchor=\"middle\" font-size=\"14px\" font-family=\"sans\\-serif:style=normal:variant=normal:weight=normal:stretch=normal:size=10.0\">Rx(0.333π)</text><rect x=\"70.0\" y=\"105.0\" width=\"84.86773437500001\" height=\"40\" stroke=\"black\" fill=\"white\" stroke-width=\"1\" /><text x=\"112.4338671875\" y=\"125.0\" dominant-baseline=\"middle\" text-anchor=\"middle\" font-size=\"18px\" font-family=\"sans\\-serif:style=normal:variant=normal:weight=normal:stretch=normal:size=10.0\">H</text><rect x=\"70.0\" y=\"155.0\" width=\"84.86773437500001\" height=\"40\" stroke=\"black\" fill=\"white\" stroke-width=\"1\" /><text x=\"112.4338671875\" y=\"175.0\" dominant-baseline=\"middle\" text-anchor=\"middle\" font-size=\"18px\" font-family=\"sans\\-serif:style=normal:variant=normal:weight=normal:stretch=normal:size=10.0\">H</text><rect x=\"70.0\" y=\"205.0\" width=\"84.86773437500001\" height=\"40\" stroke=\"black\" fill=\"white\" stroke-width=\"1\" /><text x=\"112.4338671875\" y=\"225.0\" dominant-baseline=\"middle\" text-anchor=\"middle\" font-size=\"18px\" font-family=\"sans\\-serif:style=normal:variant=normal:weight=normal:stretch=normal:size=10.0\">H</text><circle cx=\"194.867734375\" cy=\"225.0\" r=\"10.0\" /><text x=\"194.867734375\" y=\"28.0\" dominant-baseline=\"middle\" text-anchor=\"middle\" font-size=\"40px\" font-family=\"sans\\-serif:style=normal:variant=normal:weight=normal:stretch=normal:size=10.0\">×</text><text x=\"194.867734375\" y=\"128.0\" dominant-baseline=\"middle\" text-anchor=\"middle\" font-size=\"40px\" font-family=\"sans\\-serif:style=normal:variant=normal:weight=normal:stretch=normal:size=10.0\">×</text><circle cx=\"254.867734375\" cy=\"225.0\" r=\"10.0\" /><text x=\"254.867734375\" y=\"78.0\" dominant-baseline=\"middle\" text-anchor=\"middle\" font-size=\"40px\" font-family=\"sans\\-serif:style=normal:variant=normal:weight=normal:stretch=normal:size=10.0\">×</text><text x=\"254.867734375\" y=\"178.0\" dominant-baseline=\"middle\" text-anchor=\"middle\" font-size=\"40px\" font-family=\"sans\\-serif:style=normal:variant=normal:weight=normal:stretch=normal:size=10.0\">×</text><rect x=\"294.867734375\" y=\"205.0\" width=\"40\" height=\"40\" stroke=\"black\" fill=\"white\" stroke-width=\"1\" /><text x=\"314.867734375\" y=\"225.0\" dominant-baseline=\"middle\" text-anchor=\"middle\" font-size=\"18px\" font-family=\"sans\\-serif:style=normal:variant=normal:weight=normal:stretch=normal:size=10.0\">H</text></svg>"
          },
          "metadata": {}
        }
      ]
    },
    {
      "cell_type": "markdown",
      "source": [
        "While PennyLane is great for hybrid quantum-classical machine learning, Cirq excels in direct quantum circuit manipulation and algorithmic prototyping. I chose Cirq because better simulation, efficent circuit design, built in SVG for cicuit display, better control."
      ],
      "metadata": {
        "id": "KVAJmu4jtIFz"
      }
    },
    {
      "cell_type": "code",
      "source": [],
      "metadata": {
        "id": "AZm94RAmURD7"
      },
      "execution_count": null,
      "outputs": []
    }
  ]
}